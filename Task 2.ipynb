{
 "cells": [
  {
   "cell_type": "code",
   "execution_count": 4,
   "id": "528329dd",
   "metadata": {},
   "outputs": [
    {
     "name": "stdout",
     "output_type": "stream",
     "text": [
      "                    Rank  Documents  Citable documents  Citations  \\\n",
      "Country                                                             \n",
      "China                  1     360468             358777    3947871   \n",
      "United States          2     199442             195042    3068926   \n",
      "India                  3      76103              74167     760964   \n",
      "Japan                  4      56249              55680     633294   \n",
      "United Kingdom         5      52572              51156     909276   \n",
      "Germany                6      47781              46767     641717   \n",
      "Russian Federation     7      43567              43290     175721   \n",
      "Canada                 8      39036              38276     787010   \n",
      "Italy                  9      35991              34424     529459   \n",
      "South Korea           10      35294              35005     503147   \n",
      "France                12      29351              28759     471469   \n",
      "Spain                 13      27880              27272     515485   \n",
      "Australia             14      25906              25237     495278   \n",
      "Brazil                15      25887              25493     260540   \n",
      "\n",
      "                    Self-citations  Citations per document  H index  \\\n",
      "Country                                                               \n",
      "China                      2705774                   10.95      308   \n",
      "United States               881789                   15.39      422   \n",
      "India                       280893                   10.00      217   \n",
      "Japan                       136132                   11.26      217   \n",
      "United Kingdom              151672                   17.30      267   \n",
      "Germany                     133693                   13.43      230   \n",
      "Russian Federation           79765                    4.03      103   \n",
      "Canada                      125333                   20.16      263   \n",
      "Italy                       123042                   14.71      192   \n",
      "South Korea                  87529                   14.26      182   \n",
      "France                       79375                   16.06      205   \n",
      "Spain                        88803                   18.49      202   \n",
      "Australia                    72475                   19.12      212   \n",
      "Brazil                       60487                   10.06      145   \n",
      "\n",
      "                    Energy Supply  Energy Supply per Capita  % Renewable  \\\n",
      "Country                                                                    \n",
      "China                1.271910e+11                      93.0    19.754910   \n",
      "United States        9.083800e+10                     286.0    11.570980   \n",
      "India                3.319500e+10                      26.0    14.969080   \n",
      "Japan                1.898400e+10                     149.0    10.232820   \n",
      "United Kingdom       7.920000e+09                     124.0    10.600470   \n",
      "Germany              1.326100e+10                     165.0    17.901530   \n",
      "Russian Federation   3.070900e+10                     214.0    17.288680   \n",
      "Canada               1.043100e+10                     296.0    61.945430   \n",
      "Italy                6.530000e+09                     109.0    33.667230   \n",
      "South Korea          1.100700e+10                     221.0     2.279353   \n",
      "France               1.059700e+10                     166.0    17.020280   \n",
      "Spain                4.923000e+09                     106.0    37.968590   \n",
      "Australia            5.386000e+09                     231.0    11.810810   \n",
      "Brazil               1.214900e+10                      59.0    69.648030   \n",
      "\n",
      "                            2006          2007          2008          2009  \\\n",
      "Country                                                                      \n",
      "China               2.752119e+12  3.550328e+12  4.594337e+12  5.101691e+12   \n",
      "United States       1.381559e+13  1.447423e+13  1.476986e+13  1.447806e+13   \n",
      "India               9.402599e+11  1.216736e+12  1.198895e+12  1.341888e+12   \n",
      "Japan               4.601663e+12  4.579750e+12  5.106679e+12  5.289494e+12   \n",
      "United Kingdom      2.709978e+12  3.092996e+12  2.931684e+12  2.417566e+12   \n",
      "Germany             2.994704e+12  3.425578e+12  3.745264e+12  3.411261e+12   \n",
      "Russian Federation  9.899321e+11  1.299703e+12  1.660848e+12  1.222646e+12   \n",
      "Canada              1.319265e+12  1.468820e+12  1.552990e+12  1.374625e+12   \n",
      "Italy               1.949552e+12  2.213102e+12  2.408655e+12  2.199929e+12   \n",
      "South Korea         1.053217e+12  1.172614e+12  1.047339e+12  9.439419e+11   \n",
      "France              2.320536e+12  2.660591e+12  2.930304e+12  2.700887e+12   \n",
      "Spain               1.260399e+12  1.474003e+12  1.631863e+12  1.491473e+12   \n",
      "Australia           7.479074e+11  8.544273e+11  1.055686e+12  9.286298e+11   \n",
      "Brazil              1.107627e+12  1.397114e+12  1.695855e+12  1.666996e+12   \n",
      "\n",
      "                            2010          2011          2012          2013  \\\n",
      "Country                                                                      \n",
      "China               6.087192e+12  7.551545e+12  8.532186e+12  9.570471e+12   \n",
      "United States       1.504896e+13  1.559973e+13  1.625397e+13  1.684319e+13   \n",
      "India               1.675616e+12  1.823052e+12  1.827638e+12  1.856721e+12   \n",
      "Japan               5.759072e+12  6.233147e+12  6.272363e+12  5.212328e+12   \n",
      "United Kingdom      2.491397e+12  2.666403e+12  2.706341e+12  2.786315e+12   \n",
      "Germany             3.399668e+12  3.749315e+12  3.527143e+12  3.733805e+12   \n",
      "Russian Federation  1.524917e+12  2.045923e+12  2.208294e+12  2.292470e+12   \n",
      "Canada              1.617343e+12  1.793327e+12  1.828366e+12  1.846597e+12   \n",
      "Italy               2.136100e+12  2.294994e+12  2.086958e+12  2.141924e+12   \n",
      "South Korea         1.144067e+12  1.253223e+12  1.278428e+12  1.370795e+12   \n",
      "France              2.645188e+12  2.865158e+12  2.683672e+12  2.811877e+12   \n",
      "Spain               1.422108e+12  1.480710e+12  1.324751e+12  1.355580e+12   \n",
      "Australia           1.148570e+12  1.398456e+12  1.546953e+12  1.576330e+12   \n",
      "Brazil              2.208838e+12  2.616157e+12  2.465228e+12  2.472819e+12   \n",
      "\n",
      "                            2014          2015  \n",
      "Country                                         \n",
      "China               1.047562e+13  1.106157e+13  \n",
      "United States       1.755068e+13  1.820602e+13  \n",
      "India               2.039126e+12  2.103588e+12  \n",
      "Japan               4.896994e+12  4.444931e+12  \n",
      "United Kingdom      3.065223e+12  2.934858e+12  \n",
      "Germany             3.889093e+12  3.357586e+12  \n",
      "Russian Federation  2.059242e+12  1.363482e+12  \n",
      "Canada              1.805750e+12  1.556509e+12  \n",
      "Italy               2.162010e+12  1.836638e+12  \n",
      "South Korea         1.484318e+12  1.465773e+12  \n",
      "France              2.855964e+12  2.439189e+12  \n",
      "Spain               1.371821e+12  1.196157e+12  \n",
      "Australia           1.467590e+12  1.350580e+12  \n",
      "Brazil              2.456044e+12  1.802212e+12  \n"
     ]
    }
   ],
   "source": [
    "import pandas as pd\n",
    "import numpy as np\n",
    "\n",
    "def answer_one():\n",
    "    energy = pd.read_excel('Energy Indicators.xls', skiprows=17, skipfooter=38)\n",
    "    \n",
    "    energy = energy[['Unnamed: 1', 'Petajoules', 'Gigajoules', '%']]\n",
    "    \n",
    "    energy.columns = ['Country', 'Energy Supply', 'Energy Supply per Capita', '% Renewable']\n",
    "    \n",
    "    energy = energy.replace('...', np.NaN)\n",
    "\n",
    "    energy['Energy Supply'] = energy['Energy Supply'] * 1000000\n",
    "    \n",
    "    energy['Country'] = energy['Country'].str.replace(r\" \\(.*\\)|\\d+\", \"\")\n",
    "    \n",
    "    energy['Country'] = energy['Country'].replace({\n",
    "        \"Republic of Korea\": \"South Korea\",\n",
    "        \"United States of America\": \"United States\",\n",
    "        \"United Kingdom of Great Britain and Northern Ireland\": \"United Kingdom\",\n",
    "        \"China, Hong Kong Special Administrative Region\": \"Hong Kong\"\n",
    "    })\n",
    "\n",
    "    GDP = pd.read_csv('world_bank.csv', skiprows=4)\n",
    "    \n",
    "    GDP['Country Name'] = GDP['Country Name'].replace({\n",
    "        \"Korea, Rep.\": \"South Korea\",\n",
    "        \"Iran, Islamic Rep.\": \"Iran\",\n",
    "        \"Hong Kong SAR, China\": \"Hong Kong\"\n",
    "    })\n",
    "    \n",
    "    ScimEn = pd.read_excel('scimagojr.xlsx')\n",
    "    \n",
    "    combined_data = pd.merge(ScimEn, energy, how='inner', left_on='Country', right_on='Country')\n",
    "    combined_data = pd.merge(combined_data, GDP, how='inner', left_on='Country', right_on='Country Name')\n",
    "    \n",
    "    combined_data = combined_data.set_index('Country')\n",
    "    columns_of_interest = ['Rank', 'Documents', 'Citable documents', 'Citations', 'Self-citations',\n",
    "                            'Citations per document', 'H index', 'Energy Supply', 'Energy Supply per Capita',\n",
    "                            '% Renewable', '2006', '2007', '2008', '2009', '2010', '2011', '2012', '2013',\n",
    "                            '2014', '2015']\n",
    "    combined_data = combined_data[columns_of_interest]\n",
    "    \n",
    "    combined_data = combined_data[combined_data['Rank'] <= 15]\n",
    "    \n",
    "    return combined_data\n",
    "\n",
    "result = answer_one()\n",
    "print(result)\n"
   ]
  },
  {
   "cell_type": "code",
   "execution_count": 5,
   "id": "c81d0086",
   "metadata": {},
   "outputs": [
    {
     "name": "stdout",
     "output_type": "stream",
     "text": [
      "Country\n",
      "United States         1.570403e+13\n",
      "China                 6.927707e+12\n",
      "Japan                 5.239642e+12\n",
      "Germany               3.523342e+12\n",
      "United Kingdom        2.780276e+12\n",
      "France                2.691337e+12\n",
      "Italy                 2.142986e+12\n",
      "Brazil                1.988889e+12\n",
      "Russian Federation    1.666746e+12\n",
      "Canada                1.616359e+12\n",
      "India                 1.602352e+12\n",
      "Spain                 1.400886e+12\n",
      "South Korea           1.221372e+12\n",
      "Australia             1.207513e+12\n",
      "dtype: float64\n"
     ]
    }
   ],
   "source": [
    "def answer_two():\n",
    "    combined_data = answer_one()\n",
    "    \n",
    "    avgGDP = combined_data[['2006', '2007', '2008', '2009', '2010', '2011', '2012', '2013', '2014', '2015']].mean(axis=1)\n",
    "    \n",
    "    avgGDP = avgGDP.sort_values(ascending=False)\n",
    "    \n",
    "    return avgGDP\n",
    "\n",
    "avgGDP = answer_two()\n",
    "print(avgGDP)"
   ]
  },
  {
   "cell_type": "code",
   "execution_count": 6,
   "id": "938e0d58",
   "metadata": {},
   "outputs": [
    {
     "name": "stdout",
     "output_type": "stream",
     "text": [
      "118652421857.7998\n"
     ]
    }
   ],
   "source": [
    "def answer_three():\n",
    "    combined_data = answer_one()\n",
    "\n",
    "    avgGDP = combined_data[['2006', '2007', '2008', '2009', '2010', '2011', '2012', '2013', '2014', '2015']].mean(axis=1)\n",
    "    \n",
    "    sixth_largest_avgGDP_country = avgGDP.sort_values(ascending=False).index[5]\n",
    "    \n",
    "    gdp_change = combined_data.loc[sixth_largest_avgGDP_country]['2015'] - combined_data.loc[sixth_largest_avgGDP_country]['2006']\n",
    "\n",
    "    return gdp_change\n",
    "\n",
    "result = answer_three()\n",
    "print(result)"
   ]
  },
  {
   "cell_type": "code",
   "execution_count": 7,
   "id": "ae015dd4",
   "metadata": {},
   "outputs": [
    {
     "name": "stdout",
     "output_type": "stream",
     "text": [
      "('China', 0.6853754846599598)\n"
     ]
    }
   ],
   "source": [
    "def answer_four():\n",
    "    Top15 = answer_one()\n",
    "    Top15['Citation Ratio'] = Top15['Self-citations'] / Top15['Citations']\n",
    "    max_ratio = Top15['Citation Ratio'].max()\n",
    "    country_with_max_ratio = Top15[Top15['Citation Ratio'] == max_ratio].index[0]\n",
    "    return (country_with_max_ratio, max_ratio)\n",
    "\n",
    "result = answer_four()\n",
    "print(result)"
   ]
  },
  {
   "cell_type": "code",
   "execution_count": 8,
   "id": "8165db45",
   "metadata": {},
   "outputs": [
    {
     "name": "stdout",
     "output_type": "stream",
     "text": [
      "United States\n"
     ]
    }
   ],
   "source": [
    "def answer_five():\n",
    "    Top15 = answer_one()\n",
    "    Top15['Population Estimate'] = Top15['Energy Supply'] / Top15['Energy Supply per Capita']\n",
    "    third_most_populous_country = Top15['Population Estimate'].sort_values(ascending=False).index[2]\n",
    "    return third_most_populous_country\n",
    "\n",
    "result = answer_five()\n",
    "print(result)"
   ]
  },
  {
   "cell_type": "code",
   "execution_count": 9,
   "id": "3ed6af30",
   "metadata": {},
   "outputs": [
    {
     "name": "stdout",
     "output_type": "stream",
     "text": [
      "0.7058314702454705\n"
     ]
    }
   ],
   "source": [
    "def answer_six():\n",
    "    Top15 = answer_one()\n",
    "    Top15['Population Estimate'] = Top15['Energy Supply'] / Top15['Energy Supply per Capita']\n",
    "    Top15['Citable Documents per Capita'] = Top15['Citable documents'] / Top15['Population Estimate']\n",
    "    correlation = Top15['Citable Documents per Capita'].corr(Top15['Energy Supply per Capita'])\n",
    "    return correlation\n",
    "\n",
    "result = answer_six()\n",
    "print(result)"
   ]
  },
  {
   "cell_type": "code",
   "execution_count": 10,
   "id": "acd52590",
   "metadata": {},
   "outputs": [
    {
     "name": "stdout",
     "output_type": "stream",
     "text": [
      "               size           sum          mean           std\n",
      "Continent                                                    \n",
      "Asia              4  2.821591e+09  7.053977e+08  7.138779e+08\n",
      "Australia         1  2.331602e+07  2.331602e+07           NaN\n",
      "Europe            6  4.579297e+08  7.632161e+07  3.464767e+07\n",
      "North America     2  3.528552e+08  1.764276e+08  1.996696e+08\n",
      "South America     1  2.059153e+08  2.059153e+08           NaN\n"
     ]
    }
   ],
   "source": [
    "def answer_seven():\n",
    "    Top15 = answer_one()\n",
    "    ContinentDict = {'China': 'Asia', 'United States': 'North America', 'Japan': 'Asia', 'United Kingdom': 'Europe', 'Russian Federation': 'Europe', 'Canada': 'North America', 'Germany': 'Europe', 'India': 'Asia', 'France': 'Europe', 'South Korea': 'Asia', 'Italy': 'Europe', 'Spain': 'Europe', 'Iran': 'Asia', 'Australia': 'Australia', 'Brazil': 'South America'}\n",
    "    Top15['Continent'] = [ContinentDict[country] for country in Top15.index]\n",
    "    Top15['Population Estimate'] = Top15['Energy Supply'] / Top15['Energy Supply per Capita']\n",
    "    result = Top15.groupby('Continent')['Population Estimate'].agg(['size', 'sum', 'mean', 'std'])\n",
    "    return result\n",
    "\n",
    "result = answer_seven()\n",
    "print(result)"
   ]
  },
  {
   "cell_type": "code",
   "execution_count": null,
   "id": "9fd97f54",
   "metadata": {},
   "outputs": [],
   "source": []
  }
 ],
 "metadata": {
  "kernelspec": {
   "display_name": "Python 3 (ipykernel)",
   "language": "python",
   "name": "python3"
  },
  "language_info": {
   "codemirror_mode": {
    "name": "ipython",
    "version": 3
   },
   "file_extension": ".py",
   "mimetype": "text/x-python",
   "name": "python",
   "nbconvert_exporter": "python",
   "pygments_lexer": "ipython3",
   "version": "3.11.5"
  }
 },
 "nbformat": 4,
 "nbformat_minor": 5
}
