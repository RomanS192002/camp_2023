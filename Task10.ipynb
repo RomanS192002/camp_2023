{
 "cells": [
  {
   "cell_type": "code",
   "execution_count": 4,
   "id": "67344f66-47b2-486a-8192-2f38c022d569",
   "metadata": {},
   "outputs": [
    {
     "name": "stdout",
     "output_type": "stream",
     "text": [
      "Decision Tree train accuracy: 100.000%\n",
      "Decision Tree test accuracy: 88.112%\n"
     ]
    }
   ],
   "source": [
    "from sklearn.datasets import load_breast_cancer\n",
    "from sklearn.model_selection import train_test_split\n",
    "from sklearn.tree import DecisionTreeClassifier\n",
    "import graphviz\n",
    "from sklearn import tree\n",
    "\n",
    "cancer = load_breast_cancer()\n",
    "X, y = cancer.data, cancer.target\n",
    "features = cancer.feature_names\n",
    "labels = cancer.target_names\n",
    "\n",
    "X_train, X_test, y_train, y_test = train_test_split(X, y, random_state=0)\n",
    "\n",
    "clf = DecisionTreeClassifier(random_state=0)\n",
    "clf.fit(X_train, y_train)\n",
    "\n",
    "print(\"Decision Tree train accuracy: {:.3%}\".format(clf.score(X_train, y_train)))\n",
    "print(\"Decision Tree test accuracy: {:.3%}\".format(clf.score(X_test, y_test)))\n",
    "\n"
   ]
  },
  {
   "cell_type": "code",
   "execution_count": 5,
   "id": "b5baa806-38eb-44ad-a465-d89f6125d4e3",
   "metadata": {},
   "outputs": [
    {
     "name": "stdout",
     "output_type": "stream",
     "text": [
      "Random Forest train accuracy: 100.000%\n",
      "Random Forest test accuracy: 97.203%\n"
     ]
    }
   ],
   "source": [
    "from sklearn.ensemble import RandomForestClassifier\n",
    "\n",
    "clf = RandomForestClassifier(random_state=0)\n",
    "clf.fit(X_train, y_train)\n",
    "\n",
    "# Print accuracy\n",
    "print(\"Random Forest train accuracy: {:.3%}\".format(clf.score(X_train, y_train)))\n",
    "print(\"Random Forest test accuracy: {:.3%}\".format(clf.score(X_test, y_test)))\n"
   ]
  },
  {
   "cell_type": "code",
   "execution_count": 6,
   "id": "d7338b8b-8608-4026-bde2-206ce7c78d92",
   "metadata": {},
   "outputs": [
    {
     "name": "stdout",
     "output_type": "stream",
     "text": [
      "GBDT train accuracy: 100.000%\n",
      "GBDT test accuracy: 96.503%\n"
     ]
    }
   ],
   "source": [
    "from sklearn.ensemble import GradientBoostingClassifier\n",
    "\n",
    "clf = GradientBoostingClassifier(random_state=0)\n",
    "clf.fit(X_train, y_train)\n",
    "\n",
    "print(\"GBDT train accuracy: {:.3%}\".format(clf.score(X_train, y_train)))\n",
    "print(\"GBDT test accuracy: {:.3%}\".format(clf.score(X_test, y_test)))\n"
   ]
  },
  {
   "cell_type": "code",
   "execution_count": 8,
   "id": "f831c45f-69c4-4c35-a5bf-fc27660430bb",
   "metadata": {},
   "outputs": [
    {
     "name": "stdout",
     "output_type": "stream",
     "text": [
      "XGBoost train accuracy: 100.000%\n",
      "XGBoost test accuracy: 97.203%\n"
     ]
    }
   ],
   "source": [
    "import xgboost as xgb\n",
    "\n",
    "clf = xgb.XGBClassifier(random_state=0, use_label_encoder=False, eval_metric='logloss')\n",
    "clf.fit(X_train, y_train)\n",
    "\n",
    "print(\"XGBoost train accuracy: {:.3%}\".format(clf.score(X_train, y_train)))\n",
    "print(\"XGBoost test accuracy: {:.3%}\".format(clf.score(X_test, y_test)))\n"
   ]
  },
  {
   "cell_type": "code",
   "execution_count": null,
   "id": "037650bb-19ef-448b-86fa-e0b411ec647b",
   "metadata": {},
   "outputs": [],
   "source": []
  }
 ],
 "metadata": {
  "kernelspec": {
   "display_name": "Python 3 (ipykernel)",
   "language": "python",
   "name": "python3"
  },
  "language_info": {
   "codemirror_mode": {
    "name": "ipython",
    "version": 3
   },
   "file_extension": ".py",
   "mimetype": "text/x-python",
   "name": "python",
   "nbconvert_exporter": "python",
   "pygments_lexer": "ipython3",
   "version": "3.12.0"
  }
 },
 "nbformat": 4,
 "nbformat_minor": 5
}
